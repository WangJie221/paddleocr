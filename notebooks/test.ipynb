{
 "cells": [
  {
   "cell_type": "code",
   "execution_count": 21,
   "metadata": {},
   "outputs": [],
   "source": [
    "import numpy as np\n",
    "from pathlib import Path\n",
    "import pandas as pd\n",
    "import os\n",
    "import sys\n",
    "import json\n",
    "from paddleocr import PaddleOCR\n",
    "\n",
    "ROOT = Path(os.path.relpath('__file__')).resolve().parents[1]\n",
    "if str(ROOT) not in sys.path:\n",
    "    sys.path.append(str(ROOT))"
   ]
  },
  {
   "cell_type": "code",
   "execution_count": 7,
   "metadata": {},
   "outputs": [
    {
     "name": "stderr",
     "output_type": "stream",
     "text": [
      "\u001b[32mCreating model: ('PP-LCNet_x1_0_doc_ori', None)\u001b[0m\n",
      "\u001b[32mModel files already exist. Using cached files. To redownload, please delete the directory manually: `/root/.paddlex/official_models/PP-LCNet_x1_0_doc_ori`.\u001b[0m\n",
      "\u001b[32mCreating model: ('UVDoc', None)\u001b[0m\n",
      "\u001b[32mModel files already exist. Using cached files. To redownload, please delete the directory manually: `/root/.paddlex/official_models/UVDoc`.\u001b[0m\n",
      "\u001b[32mCreating model: ('PP-LCNet_x1_0_textline_ori', None)\u001b[0m\n",
      "\u001b[32mModel files already exist. Using cached files. To redownload, please delete the directory manually: `/root/.paddlex/official_models/PP-LCNet_x1_0_textline_ori`.\u001b[0m\n",
      "\u001b[32mCreating model: ('PP-OCRv5_server_det', None)\u001b[0m\n",
      "\u001b[32mModel files already exist. Using cached files. To redownload, please delete the directory manually: `/root/.paddlex/official_models/PP-OCRv5_server_det`.\u001b[0m\n",
      "\u001b[32mCreating model: ('PP-OCRv5_server_rec', None)\u001b[0m\n",
      "\u001b[32mModel files already exist. Using cached files. To redownload, please delete the directory manually: `/root/.paddlex/official_models/PP-OCRv5_server_rec`.\u001b[0m\n",
      "\u001b[32m{'res': {'input_path': '/data/coding/PaddleOCR/data/RL.png', 'page_index': None, 'model_settings': {'use_doc_preprocessor': True, 'use_textline_orientation': True}, 'doc_preprocessor_res': {'input_path': None, 'page_index': None, 'model_settings': {'use_doc_orientation_classify': True, 'use_doc_unwarping': True}, 'angle': 0}, 'dt_polys': array([[[  0,   0],\n",
      "        ...,\n",
      "        [  0,  51]],\n",
      "\n",
      "       ...,\n",
      "\n",
      "       [[716, 888],\n",
      "        ...,\n",
      "        [716, 945]]], shape=(17, 4, 2), dtype=int16), 'text_det_params': {'limit_side_len': 64, 'limit_type': 'min', 'thresh': 0.3, 'max_side_limit': 4000, 'box_thresh': 0.6, 'unclip_ratio': 1.5}, 'text_type': 'general', 'textline_orientation_angles': array([0, ..., 0], shape=(17,)), 'text_rec_score_thresh': 0.0, 'return_word_box': False, 'rec_texts': ['2016', '2019', 'AlphaGo战李世石', 'AlphaStar 登上Nature', 'AlphaGo挑战世界冠军韩国职业', '已经达到星际争霸2人类对战天', '棋手李世石，以4：1的结果取胜', '梯的顶级水平', '环境', 'Environment', '动作Action', '状态State', '奖励Reward', '序列决策', '长期收益', '强化学习', '智能体Agent'], 'rec_scores': array([0.9996106 , ..., 0.99931359], shape=(17,)), 'rec_polys': array([[[  0,   0],\n",
      "        ...,\n",
      "        [  0,  51]],\n",
      "\n",
      "       ...,\n",
      "\n",
      "       [[716, 888],\n",
      "        ...,\n",
      "        [716, 945]]], shape=(17, 4, 2), dtype=int16), 'rec_boxes': array([[  0, ...,  54],\n",
      "       ...,\n",
      "       [716, ..., 945]], shape=(17, 4), dtype=int16)}}\u001b[0m\n"
     ]
    }
   ],
   "source": [
    "img_path = str(ROOT / 'data/RL.png')\n",
    "\n",
    "# ocr = PaddleOCR(\n",
    "#     use_doc_orientation_classify=False, \n",
    "#     use_doc_unwarping=False, \n",
    "#     use_textline_orientation=False) # 文本检测+文本识别\n",
    "ocr = PaddleOCR(use_doc_orientation_classify=True, use_doc_unwarping=True) # 文本图像预处理+文本检测+方向分类+文本识别\n",
    "# ocr = PaddleOCR(use_doc_orientation_classify=False, use_doc_unwarping=False) # 文本检测+文本行方向分类+文本识别\n",
    "# ocr = PaddleOCR(\n",
    "#     text_detection_model_name=\"PP-OCRv5_mobile_det\",\n",
    "#     text_recognition_model_name=\"PP-OCRv5_mobile_rec\",\n",
    "#     use_doc_orientation_classify=False,\n",
    "#     use_doc_unwarping=False,\n",
    "#     use_textline_orientation=False) # 更换 PP-OCRv5_mobile 模型\n",
    "result = ocr.predict(img_path)\n",
    "for res in result:\n",
    "    res.print()\n",
    "    res.save_to_img(\"output\")\n",
    "    res.save_to_json(\"output\")"
   ]
  },
  {
   "cell_type": "code",
   "execution_count": 12,
   "metadata": {},
   "outputs": [
    {
     "data": {
      "text/plain": [
       "paddlex.inference.pipelines.ocr.result.OCRResult"
      ]
     },
     "execution_count": 12,
     "metadata": {},
     "output_type": "execute_result"
    }
   ],
   "source": [
    "type(result[0])"
   ]
  },
  {
   "cell_type": "markdown",
   "metadata": {},
   "source": [
    "#### 服务化部署"
   ]
  },
  {
   "cell_type": "code",
   "execution_count": null,
   "metadata": {},
   "outputs": [],
   "source": [
    "!paddlex --install serving\n",
    "!paddlex --serve --pipeline OCR --port 8012"
   ]
  },
  {
   "cell_type": "code",
   "execution_count": 17,
   "metadata": {},
   "outputs": [
    {
     "name": "stdout",
     "output_type": "stream",
     "text": [
      "{'ocrResults': [{'prunedResult': {'model_settings': {'use_doc_preprocessor': True, 'use_textline_orientation': True}, 'doc_preprocessor_res': {'model_settings': {'use_doc_orientation_classify': True, 'use_doc_unwarping': True}, 'angle': 0}, 'dt_polys': [[[0, 0], [139, 0], [138, 54], [0, 51]], [[1035, 8], [1167, 8], [1167, 59], [1035, 59]], [[1, 68], [235, 73], [234, 101], [1, 97]], [[1038, 79], [1291, 79], [1291, 103], [1038, 103]], [[3, 114], [381, 120], [380, 147], [3, 141]], [[1036, 121], [1380, 123], [1380, 150], [1036, 148]], [[4, 148], [350, 155], [349, 186], [4, 178]], [[1033, 155], [1185, 157], [1184, 189], [1033, 186]], [[667, 277], [754, 277], [754, 324], [667, 324]], [[737, 280], [970, 280], [970, 319], [737, 319]], [[51, 574], [262, 574], [262, 619], [51, 619]], [[1094, 573], [1272, 573], [1272, 618], [1094, 618]], [[1476, 574], [1695, 574], [1695, 622], [1476, 622]], [[76, 633], [236, 633], [236, 680], [76, 680]], [[1508, 642], [1657, 642], [1657, 685], [1508, 685]], [[1458, 859], [1719, 857], [1719, 932], [1459, 934]], [[716, 888], [947, 888], [947, 945], [716, 945]]], 'text_det_params': {'limit_side_len': 64, 'limit_type': 'min', 'thresh': 0.3, 'max_side_limit': 4000, 'box_thresh': 0.6, 'unclip_ratio': 1.5}, 'text_type': 'general', 'textline_orientation_angles': [0, 0, 0, 0, 0, 0, 0, 0, 0, 0, 0, 0, 0, 0, 0, 0, 0], 'text_rec_score_thresh': 0.0, 'return_word_box': False, 'rec_texts': ['2016', '2019', 'AlphaGo战李世石', 'AlphaStar 登上Nature', 'AlphaGo挑战世界冠军韩国职业', '已经达到星际争霸2人类对战天', '棋手李世石，以4：1的结果取胜', '梯的顶级水平', '环境', 'Environment', '动作Action', '状态State', '奖励Reward', '序列决策', '长期收益', '强化学习', '智能体Agent'], 'rec_scores': [0.9996106028556824, 0.9996640682220459, 0.9893014430999756, 0.9744412302970886, 0.9963214993476868, 0.9991752505302429, 0.9835987091064453, 0.9996864199638367, 0.999647855758667, 0.9768953323364258, 0.9997224807739258, 0.9986778497695923, 0.9965221881866455, 0.9993424415588379, 0.999525785446167, 0.9975847601890564, 0.9993135929107666], 'rec_polys': [[[0, 0], [139, 0], [138, 54], [0, 51]], [[1035, 8], [1167, 8], [1167, 59], [1035, 59]], [[1, 68], [235, 73], [234, 101], [1, 97]], [[1038, 79], [1291, 79], [1291, 103], [1038, 103]], [[3, 114], [381, 120], [380, 147], [3, 141]], [[1036, 121], [1380, 123], [1380, 150], [1036, 148]], [[4, 148], [350, 155], [349, 186], [4, 178]], [[1033, 155], [1185, 157], [1184, 189], [1033, 186]], [[667, 277], [754, 277], [754, 324], [667, 324]], [[737, 280], [970, 280], [970, 319], [737, 319]], [[51, 574], [262, 574], [262, 619], [51, 619]], [[1094, 573], [1272, 573], [1272, 618], [1094, 618]], [[1476, 574], [1695, 574], [1695, 622], [1476, 622]], [[76, 633], [236, 633], [236, 680], [76, 680]], [[1508, 642], [1657, 642], [1657, 685], [1508, 685]], [[1458, 859], [1719, 857], [1719, 932], [1459, 934]], [[716, 888], [947, 888], [947, 945], [716, 945]]], 'rec_boxes': [[0, 0, 139, 54], [1035, 8, 1167, 59], [1, 68, 235, 101], [1038, 79, 1291, 103], [3, 114, 381, 147], [1036, 121, 1380, 150], [4, 148, 350, 186], [1033, 155, 1185, 189], [667, 277, 754, 324], [737, 280, 970, 319], [51, 574, 262, 619], [1094, 573, 1272, 618], [1476, 574, 1695, 622], [76, 633, 236, 680], [1508, 642, 1657, 685], [1458, 857, 1719, 934], [716, 888, 947, 945]]}}], 'dataInfo': {'width': 1726, 'height': 968, 'type': 'image'}}\n"
     ]
    }
   ],
   "source": [
    "# 测试服务化部署\n",
    "import base64\n",
    "import requests\n",
    "API_URL = \"http://localhost:8012/ocr\"\n",
    "\n",
    "file_path = img_path\n",
    "with open(file_path, \"rb\") as file:\n",
    "   file_data = base64.b64encode(file.read()).decode(\"ascii\")\n",
    "# payload = {\"file\": file_data, \"fileType\": 1, \"visualize\": False}\n",
    "payload = {\"file\": file_data, \"fileType\": 1, \"visualize\": False}\n",
    "response = requests.post(API_URL, json=payload)\n",
    "if response.status_code == 200:\n",
    "   print(response.json()[\"result\"])"
   ]
  },
  {
   "cell_type": "code",
   "execution_count": 23,
   "metadata": {},
   "outputs": [
    {
     "data": {
      "text/plain": [
       "{'logId': 'a0b45025-1b0e-4b39-8750-fc008f7ea8b6',\n",
       " 'result': {'ocrResults': [{'prunedResult': {'model_settings': {'use_doc_preprocessor': True,\n",
       "      'use_textline_orientation': True},\n",
       "     'doc_preprocessor_res': {'model_settings': {'use_doc_orientation_classify': True,\n",
       "       'use_doc_unwarping': True},\n",
       "      'angle': 0},\n",
       "     'dt_polys': [[[0, 0], [139, 0], [138, 54], [0, 51]],\n",
       "      [[1035, 8], [1167, 8], [1167, 59], [1035, 59]],\n",
       "      [[1, 68], [235, 73], [234, 101], [1, 97]],\n",
       "      [[1038, 79], [1291, 79], [1291, 103], [1038, 103]],\n",
       "      [[3, 114], [381, 120], [380, 147], [3, 141]],\n",
       "      [[1036, 121], [1380, 123], [1380, 150], [1036, 148]],\n",
       "      [[4, 148], [350, 155], [349, 186], [4, 178]],\n",
       "      [[1033, 155], [1185, 157], [1184, 189], [1033, 186]],\n",
       "      [[667, 277], [754, 277], [754, 324], [667, 324]],\n",
       "      [[737, 280], [970, 280], [970, 319], [737, 319]],\n",
       "      [[51, 574], [262, 574], [262, 619], [51, 619]],\n",
       "      [[1094, 573], [1272, 573], [1272, 618], [1094, 618]],\n",
       "      [[1476, 574], [1695, 574], [1695, 622], [1476, 622]],\n",
       "      [[76, 633], [236, 633], [236, 680], [76, 680]],\n",
       "      [[1508, 642], [1657, 642], [1657, 685], [1508, 685]],\n",
       "      [[1458, 859], [1719, 857], [1719, 932], [1459, 934]],\n",
       "      [[716, 888], [947, 888], [947, 945], [716, 945]]],\n",
       "     'text_det_params': {'limit_side_len': 64,\n",
       "      'limit_type': 'min',\n",
       "      'thresh': 0.3,\n",
       "      'max_side_limit': 4000,\n",
       "      'box_thresh': 0.6,\n",
       "      'unclip_ratio': 1.5},\n",
       "     'text_type': 'general',\n",
       "     'textline_orientation_angles': [0,\n",
       "      0,\n",
       "      0,\n",
       "      0,\n",
       "      0,\n",
       "      0,\n",
       "      0,\n",
       "      0,\n",
       "      0,\n",
       "      0,\n",
       "      0,\n",
       "      0,\n",
       "      0,\n",
       "      0,\n",
       "      0,\n",
       "      0,\n",
       "      0],\n",
       "     'text_rec_score_thresh': 0.0,\n",
       "     'return_word_box': False,\n",
       "     'rec_texts': ['2016',\n",
       "      '2019',\n",
       "      'AlphaGo战李世石',\n",
       "      'AlphaStar 登上Nature',\n",
       "      'AlphaGo挑战世界冠军韩国职业',\n",
       "      '已经达到星际争霸2人类对战天',\n",
       "      '棋手李世石，以4：1的结果取胜',\n",
       "      '梯的顶级水平',\n",
       "      '环境',\n",
       "      'Environment',\n",
       "      '动作Action',\n",
       "      '状态State',\n",
       "      '奖励Reward',\n",
       "      '序列决策',\n",
       "      '长期收益',\n",
       "      '强化学习',\n",
       "      '智能体Agent'],\n",
       "     'rec_scores': [0.9996106028556824,\n",
       "      0.9996640682220459,\n",
       "      0.9893014430999756,\n",
       "      0.9744412302970886,\n",
       "      0.9963214993476868,\n",
       "      0.9991752505302429,\n",
       "      0.9835987091064453,\n",
       "      0.9996864199638367,\n",
       "      0.999647855758667,\n",
       "      0.9768953323364258,\n",
       "      0.9997224807739258,\n",
       "      0.9986778497695923,\n",
       "      0.9965221881866455,\n",
       "      0.9993424415588379,\n",
       "      0.999525785446167,\n",
       "      0.9975847601890564,\n",
       "      0.9993135929107666],\n",
       "     'rec_polys': [[[0, 0], [139, 0], [138, 54], [0, 51]],\n",
       "      [[1035, 8], [1167, 8], [1167, 59], [1035, 59]],\n",
       "      [[1, 68], [235, 73], [234, 101], [1, 97]],\n",
       "      [[1038, 79], [1291, 79], [1291, 103], [1038, 103]],\n",
       "      [[3, 114], [381, 120], [380, 147], [3, 141]],\n",
       "      [[1036, 121], [1380, 123], [1380, 150], [1036, 148]],\n",
       "      [[4, 148], [350, 155], [349, 186], [4, 178]],\n",
       "      [[1033, 155], [1185, 157], [1184, 189], [1033, 186]],\n",
       "      [[667, 277], [754, 277], [754, 324], [667, 324]],\n",
       "      [[737, 280], [970, 280], [970, 319], [737, 319]],\n",
       "      [[51, 574], [262, 574], [262, 619], [51, 619]],\n",
       "      [[1094, 573], [1272, 573], [1272, 618], [1094, 618]],\n",
       "      [[1476, 574], [1695, 574], [1695, 622], [1476, 622]],\n",
       "      [[76, 633], [236, 633], [236, 680], [76, 680]],\n",
       "      [[1508, 642], [1657, 642], [1657, 685], [1508, 685]],\n",
       "      [[1458, 859], [1719, 857], [1719, 932], [1459, 934]],\n",
       "      [[716, 888], [947, 888], [947, 945], [716, 945]]],\n",
       "     'rec_boxes': [[0, 0, 139, 54],\n",
       "      [1035, 8, 1167, 59],\n",
       "      [1, 68, 235, 101],\n",
       "      [1038, 79, 1291, 103],\n",
       "      [3, 114, 381, 147],\n",
       "      [1036, 121, 1380, 150],\n",
       "      [4, 148, 350, 186],\n",
       "      [1033, 155, 1185, 189],\n",
       "      [667, 277, 754, 324],\n",
       "      [737, 280, 970, 319],\n",
       "      [51, 574, 262, 619],\n",
       "      [1094, 573, 1272, 618],\n",
       "      [1476, 574, 1695, 622],\n",
       "      [76, 633, 236, 680],\n",
       "      [1508, 642, 1657, 685],\n",
       "      [1458, 857, 1719, 934],\n",
       "      [716, 888, 947, 945]]}}],\n",
       "  'dataInfo': {'width': 1726, 'height': 968, 'type': 'image'}},\n",
       " 'errorCode': 0,\n",
       " 'errorMsg': 'Success'}"
      ]
     },
     "execution_count": 23,
     "metadata": {},
     "output_type": "execute_result"
    }
   ],
   "source": [
    "response.json()"
   ]
  },
  {
   "cell_type": "code",
   "execution_count": null,
   "metadata": {},
   "outputs": [],
   "source": []
  }
 ],
 "metadata": {
  "kernelspec": {
   "display_name": "paddle",
   "language": "python",
   "name": "python3"
  },
  "language_info": {
   "codemirror_mode": {
    "name": "ipython",
    "version": 3
   },
   "file_extension": ".py",
   "mimetype": "text/x-python",
   "name": "python",
   "nbconvert_exporter": "python",
   "pygments_lexer": "ipython3",
   "version": "3.11.0"
  }
 },
 "nbformat": 4,
 "nbformat_minor": 2
}
